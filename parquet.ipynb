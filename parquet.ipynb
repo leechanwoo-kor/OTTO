{
 "cells": [
  {
   "cell_type": "markdown",
   "id": "7a56fdba",
   "metadata": {},
   "source": [
    "### Reading the first parquet file"
   ]
  },
  {
   "cell_type": "code",
   "execution_count": 1,
   "id": "4575bd7b",
   "metadata": {
    "ExecuteTime": {
     "end_time": "2023-01-16T14:30:33.113465Z",
     "start_time": "2023-01-16T14:30:33.073965Z"
    },
    "code_folding": []
   },
   "outputs": [],
   "source": [
    "import pyarrow as pa\n",
    "import pyarrow.parquet as pq\n",
    "import os"
   ]
  },
  {
   "cell_type": "code",
   "execution_count": 2,
   "id": "ac97b144",
   "metadata": {
    "ExecuteTime": {
     "end_time": "2023-01-16T14:30:33.118116Z",
     "start_time": "2023-01-16T14:30:33.115344Z"
    }
   },
   "outputs": [],
   "source": [
    "def get_first_parquet_from_path(path):\n",
    "    for (dir_path, _, files) in os.walk(path):\n",
    "        for f in files:\n",
    "            if f.endswith(\".parquet\"):\n",
    "                first_pq_path = os.path.join(dir_path, f)\n",
    "                return first_pq_path"
   ]
  },
  {
   "cell_type": "code",
   "execution_count": 3,
   "id": "4a3a00dc",
   "metadata": {
    "ExecuteTime": {
     "end_time": "2023-01-16T14:30:33.124476Z",
     "start_time": "2023-01-16T14:30:33.119769Z"
    }
   },
   "outputs": [
    {
     "data": {
      "text/plain": [
       "'./train_parquet/000000000_000100000.parquet'"
      ]
     },
     "execution_count": 3,
     "metadata": {},
     "output_type": "execute_result"
    }
   ],
   "source": [
    "path = './train_parquet'\n",
    "first_pq = get_first_parquet_from_path(path)\n",
    "first_pq"
   ]
  },
  {
   "cell_type": "code",
   "execution_count": 4,
   "id": "b9cd8b5f",
   "metadata": {
    "ExecuteTime": {
     "end_time": "2023-01-16T14:30:33.467932Z",
     "start_time": "2023-01-16T14:30:33.125889Z"
    }
   },
   "outputs": [
    {
     "data": {
      "text/plain": [
       "(5227653,\n",
       " 4,\n",
       " session: int64\n",
       " aid: int64\n",
       " ts: int64\n",
       " type: string\n",
       " -- schema metadata --\n",
       " pandas: '{\"index_columns\": [{\"kind\": \"range\", \"name\": null, \"start\": 0, \"' + 688)"
      ]
     },
     "execution_count": 4,
     "metadata": {},
     "output_type": "execute_result"
    }
   ],
   "source": [
    "first_ds = pq.read_table(first_pq)\n",
    "first_ds.num_rows, first_ds.num_columns, first_ds.schema"
   ]
  },
  {
   "cell_type": "code",
   "execution_count": 5,
   "id": "10b6e912",
   "metadata": {
    "ExecuteTime": {
     "end_time": "2023-01-16T14:30:33.473579Z",
     "start_time": "2023-01-16T14:30:33.469609Z"
    }
   },
   "outputs": [
    {
     "name": "stdout",
     "output_type": "stream",
     "text": [
      "<pyarrow._parquet.ColumnChunkMetaData object at 0x7fb0b117b6d0>\n",
      "  file_offset: 1045713\n",
      "  file_path: \n",
      "  physical_type: INT64\n",
      "  num_values: 5227653\n",
      "  path_in_schema: session\n",
      "  is_stats_set: True\n",
      "  statistics:\n",
      "    <pyarrow._parquet.Statistics object at 0x7fb0b117b720>\n",
      "      has_min_max: True\n",
      "      min: 0\n",
      "      max: 99999\n",
      "      null_count: 0\n",
      "      distinct_count: 0\n",
      "      num_values: 5227653\n",
      "      physical_type: INT64\n",
      "      logical_type: None\n",
      "      converted_type (legacy): NONE\n",
      "  compression: SNAPPY\n",
      "  encodings: ('RLE_DICTIONARY', 'PLAIN', 'RLE')\n",
      "  has_dictionary_page: True\n",
      "  dictionary_page_offset: 4\n",
      "  data_page_offset: 400266\n",
      "  total_compressed_size: 1045709\n",
      "  total_uncompressed_size: 1510526\n",
      "<pyarrow._parquet.ColumnChunkMetaData object at 0x7fb0b117b6d0>\n",
      "  file_offset: 19895452\n",
      "  file_path: \n",
      "  physical_type: INT64\n",
      "  num_values: 5227653\n",
      "  path_in_schema: aid\n",
      "  is_stats_set: True\n",
      "  statistics:\n",
      "    <pyarrow._parquet.Statistics object at 0x7fb0b117b9f0>\n",
      "      has_min_max: True\n",
      "      min: 1\n",
      "      max: 1855601\n",
      "      null_count: 0\n",
      "      distinct_count: 0\n",
      "      num_values: 5227653\n",
      "      physical_type: INT64\n",
      "      logical_type: None\n",
      "      converted_type (legacy): NONE\n",
      "  compression: SNAPPY\n",
      "  encodings: ('RLE_DICTIONARY', 'PLAIN', 'RLE', 'PLAIN')\n",
      "  has_dictionary_page: True\n",
      "  dictionary_page_offset: 1045819\n",
      "  data_page_offset: 1698601\n",
      "  total_compressed_size: 18849633\n",
      "  total_uncompressed_size: 40735491\n",
      "<pyarrow._parquet.ColumnChunkMetaData object at 0x7fb0b117b6d0>\n",
      "  file_offset: 49918583\n",
      "  file_path: \n",
      "  physical_type: INT64\n",
      "  num_values: 5227653\n",
      "  path_in_schema: ts\n",
      "  is_stats_set: True\n",
      "  statistics:\n",
      "    <pyarrow._parquet.Statistics object at 0x7fb0b117b7c0>\n",
      "      has_min_max: True\n",
      "      min: 1659304800025\n",
      "      max: 1661723999941\n",
      "      null_count: 0\n",
      "      distinct_count: 0\n",
      "      num_values: 5227653\n",
      "      physical_type: INT64\n",
      "      logical_type: None\n",
      "      converted_type (legacy): NONE\n",
      "  compression: SNAPPY\n",
      "  encodings: ('RLE_DICTIONARY', 'PLAIN', 'RLE', 'PLAIN')\n",
      "  has_dictionary_page: True\n",
      "  dictionary_page_offset: 19895567\n",
      "  data_page_offset: 20641213\n",
      "  total_compressed_size: 30023016\n",
      "  total_uncompressed_size: 42111090\n",
      "<pyarrow._parquet.ColumnChunkMetaData object at 0x7fb0b117b6d0>\n",
      "  file_offset: 50518542\n",
      "  file_path: \n",
      "  physical_type: BYTE_ARRAY\n",
      "  num_values: 5227653\n",
      "  path_in_schema: type\n",
      "  is_stats_set: True\n",
      "  statistics:\n",
      "    <pyarrow._parquet.Statistics object at 0x7fb0b117bae0>\n",
      "      has_min_max: True\n",
      "      min: carts\n",
      "      max: orders\n",
      "      null_count: 0\n",
      "      distinct_count: 0\n",
      "      num_values: 5227653\n",
      "      physical_type: BYTE_ARRAY\n",
      "      logical_type: String\n",
      "      converted_type (legacy): UTF8\n",
      "  compression: SNAPPY\n",
      "  encodings: ('RLE_DICTIONARY', 'PLAIN', 'RLE')\n",
      "  has_dictionary_page: True\n",
      "  dictionary_page_offset: 49918698\n",
      "  data_page_offset: 49918742\n",
      "  total_compressed_size: 599844\n",
      "  total_uncompressed_size: 742919\n"
     ]
    }
   ],
   "source": [
    "parquet_file = pq.ParquetFile(first_pq)\n",
    "ts=parquet_file.metadata.row_group(0)\n",
    "for nm in range(ts.num_columns):\n",
    "    print(ts.column(nm))"
   ]
  },
  {
   "cell_type": "markdown",
   "id": "12084374",
   "metadata": {},
   "source": [
    "### Reading and Writing Single Files"
   ]
  },
  {
   "cell_type": "code",
   "execution_count": 6,
   "id": "153703fb",
   "metadata": {
    "ExecuteTime": {
     "end_time": "2023-01-16T14:30:33.603182Z",
     "start_time": "2023-01-16T14:30:33.475138Z"
    }
   },
   "outputs": [
    {
     "data": {
      "text/html": [
       "<div>\n",
       "<style scoped>\n",
       "    .dataframe tbody tr th:only-of-type {\n",
       "        vertical-align: middle;\n",
       "    }\n",
       "\n",
       "    .dataframe tbody tr th {\n",
       "        vertical-align: top;\n",
       "    }\n",
       "\n",
       "    .dataframe thead th {\n",
       "        text-align: right;\n",
       "    }\n",
       "</style>\n",
       "<table border=\"1\" class=\"dataframe\">\n",
       "  <thead>\n",
       "    <tr style=\"text-align: right;\">\n",
       "      <th></th>\n",
       "      <th>session</th>\n",
       "      <th>aid</th>\n",
       "      <th>ts</th>\n",
       "      <th>type</th>\n",
       "    </tr>\n",
       "  </thead>\n",
       "  <tbody>\n",
       "    <tr>\n",
       "      <th>0</th>\n",
       "      <td>0</td>\n",
       "      <td>1517085</td>\n",
       "      <td>1659304800025</td>\n",
       "      <td>clicks</td>\n",
       "    </tr>\n",
       "    <tr>\n",
       "      <th>1</th>\n",
       "      <td>0</td>\n",
       "      <td>1563459</td>\n",
       "      <td>1659304904511</td>\n",
       "      <td>clicks</td>\n",
       "    </tr>\n",
       "    <tr>\n",
       "      <th>2</th>\n",
       "      <td>0</td>\n",
       "      <td>1309446</td>\n",
       "      <td>1659367439426</td>\n",
       "      <td>clicks</td>\n",
       "    </tr>\n",
       "    <tr>\n",
       "      <th>3</th>\n",
       "      <td>0</td>\n",
       "      <td>16246</td>\n",
       "      <td>1659367719997</td>\n",
       "      <td>clicks</td>\n",
       "    </tr>\n",
       "    <tr>\n",
       "      <th>4</th>\n",
       "      <td>0</td>\n",
       "      <td>1781822</td>\n",
       "      <td>1659367871344</td>\n",
       "      <td>clicks</td>\n",
       "    </tr>\n",
       "    <tr>\n",
       "      <th>...</th>\n",
       "      <td>...</td>\n",
       "      <td>...</td>\n",
       "      <td>...</td>\n",
       "      <td>...</td>\n",
       "    </tr>\n",
       "    <tr>\n",
       "      <th>5227648</th>\n",
       "      <td>99999</td>\n",
       "      <td>1544954</td>\n",
       "      <td>1660373630318</td>\n",
       "      <td>clicks</td>\n",
       "    </tr>\n",
       "    <tr>\n",
       "      <th>5227649</th>\n",
       "      <td>99999</td>\n",
       "      <td>1032408</td>\n",
       "      <td>1660373656430</td>\n",
       "      <td>clicks</td>\n",
       "    </tr>\n",
       "    <tr>\n",
       "      <th>5227650</th>\n",
       "      <td>99999</td>\n",
       "      <td>1544954</td>\n",
       "      <td>1660373678083</td>\n",
       "      <td>clicks</td>\n",
       "    </tr>\n",
       "    <tr>\n",
       "      <th>5227651</th>\n",
       "      <td>99999</td>\n",
       "      <td>554230</td>\n",
       "      <td>1660373715477</td>\n",
       "      <td>clicks</td>\n",
       "    </tr>\n",
       "    <tr>\n",
       "      <th>5227652</th>\n",
       "      <td>99999</td>\n",
       "      <td>1544954</td>\n",
       "      <td>1660373725829</td>\n",
       "      <td>clicks</td>\n",
       "    </tr>\n",
       "  </tbody>\n",
       "</table>\n",
       "<p>5227653 rows × 4 columns</p>\n",
       "</div>"
      ],
      "text/plain": [
       "         session      aid             ts    type\n",
       "0              0  1517085  1659304800025  clicks\n",
       "1              0  1563459  1659304904511  clicks\n",
       "2              0  1309446  1659367439426  clicks\n",
       "3              0    16246  1659367719997  clicks\n",
       "4              0  1781822  1659367871344  clicks\n",
       "...          ...      ...            ...     ...\n",
       "5227648    99999  1544954  1660373630318  clicks\n",
       "5227649    99999  1032408  1660373656430  clicks\n",
       "5227650    99999  1544954  1660373678083  clicks\n",
       "5227651    99999   554230  1660373715477  clicks\n",
       "5227652    99999  1544954  1660373725829  clicks\n",
       "\n",
       "[5227653 rows x 4 columns]"
      ]
     },
     "execution_count": 6,
     "metadata": {},
     "output_type": "execute_result"
    }
   ],
   "source": [
    "first_ds.to_pandas()"
   ]
  },
  {
   "cell_type": "code",
   "execution_count": 7,
   "id": "3f9bec25",
   "metadata": {
    "ExecuteTime": {
     "end_time": "2023-01-16T14:31:53.388328Z",
     "start_time": "2023-01-16T14:31:53.247358Z"
    }
   },
   "outputs": [
    {
     "data": {
      "text/plain": [
       "pyarrow.Table\n",
       "aid: int64\n",
       "type: string\n",
       "----\n",
       "aid: [[1517085,1563459,1309446,16246,1781822,...,833777,833777,833777,953177,1400776],[953177,1270763,953177,953177,1243640,...,445834,445834,43464,982826,1250310],...,[1155739,866939,1470432,1439071,24635,...,1733488,90153,1640659,1796075,1640659],[276502,361506,276502,762756,90929,...,1544954,1032408,1544954,554230,1544954]]\n",
       "type: [[\"clicks\",\"clicks\",\"clicks\",\"clicks\",\"clicks\",...,\"carts\",\"clicks\",\"clicks\",\"clicks\",\"clicks\"],[\"clicks\",\"clicks\",\"clicks\",\"clicks\",\"clicks\",...,\"carts\",\"carts\",\"clicks\",\"clicks\",\"clicks\"],...,[\"clicks\",\"clicks\",\"clicks\",\"clicks\",\"clicks\",...,\"clicks\",\"clicks\",\"clicks\",\"clicks\",\"clicks\"],[\"clicks\",\"clicks\",\"clicks\",\"clicks\",\"clicks\",...,\"clicks\",\"clicks\",\"clicks\",\"clicks\",\"clicks\"]]"
      ]
     },
     "execution_count": 7,
     "metadata": {},
     "output_type": "execute_result"
    }
   ],
   "source": [
    "pq.read_table(first_pq, columns=['aid', 'type'])"
   ]
  },
  {
   "cell_type": "code",
   "execution_count": 8,
   "id": "bbe006ad",
   "metadata": {
    "ExecuteTime": {
     "end_time": "2023-01-16T14:32:19.985413Z",
     "start_time": "2023-01-16T14:32:19.858100Z"
    }
   },
   "outputs": [
    {
     "data": {
      "text/html": [
       "<div>\n",
       "<style scoped>\n",
       "    .dataframe tbody tr th:only-of-type {\n",
       "        vertical-align: middle;\n",
       "    }\n",
       "\n",
       "    .dataframe tbody tr th {\n",
       "        vertical-align: top;\n",
       "    }\n",
       "\n",
       "    .dataframe thead th {\n",
       "        text-align: right;\n",
       "    }\n",
       "</style>\n",
       "<table border=\"1\" class=\"dataframe\">\n",
       "  <thead>\n",
       "    <tr style=\"text-align: right;\">\n",
       "      <th></th>\n",
       "      <th>ts</th>\n",
       "    </tr>\n",
       "  </thead>\n",
       "  <tbody>\n",
       "    <tr>\n",
       "      <th>0</th>\n",
       "      <td>1659304800025</td>\n",
       "    </tr>\n",
       "    <tr>\n",
       "      <th>1</th>\n",
       "      <td>1659304904511</td>\n",
       "    </tr>\n",
       "    <tr>\n",
       "      <th>2</th>\n",
       "      <td>1659367439426</td>\n",
       "    </tr>\n",
       "    <tr>\n",
       "      <th>3</th>\n",
       "      <td>1659367719997</td>\n",
       "    </tr>\n",
       "    <tr>\n",
       "      <th>4</th>\n",
       "      <td>1659367871344</td>\n",
       "    </tr>\n",
       "    <tr>\n",
       "      <th>...</th>\n",
       "      <td>...</td>\n",
       "    </tr>\n",
       "    <tr>\n",
       "      <th>5227648</th>\n",
       "      <td>1660373630318</td>\n",
       "    </tr>\n",
       "    <tr>\n",
       "      <th>5227649</th>\n",
       "      <td>1660373656430</td>\n",
       "    </tr>\n",
       "    <tr>\n",
       "      <th>5227650</th>\n",
       "      <td>1660373678083</td>\n",
       "    </tr>\n",
       "    <tr>\n",
       "      <th>5227651</th>\n",
       "      <td>1660373715477</td>\n",
       "    </tr>\n",
       "    <tr>\n",
       "      <th>5227652</th>\n",
       "      <td>1660373725829</td>\n",
       "    </tr>\n",
       "  </tbody>\n",
       "</table>\n",
       "<p>5227653 rows × 1 columns</p>\n",
       "</div>"
      ],
      "text/plain": [
       "                    ts\n",
       "0        1659304800025\n",
       "1        1659304904511\n",
       "2        1659367439426\n",
       "3        1659367719997\n",
       "4        1659367871344\n",
       "...                ...\n",
       "5227648  1660373630318\n",
       "5227649  1660373656430\n",
       "5227650  1660373678083\n",
       "5227651  1660373715477\n",
       "5227652  1660373725829\n",
       "\n",
       "[5227653 rows x 1 columns]"
      ]
     },
     "execution_count": 8,
     "metadata": {},
     "output_type": "execute_result"
    }
   ],
   "source": [
    "pq.read_pandas(first_pq, columns=['ts']).to_pandas()"
   ]
  },
  {
   "cell_type": "markdown",
   "id": "ffd4d080",
   "metadata": {},
   "source": [
    "### Reading Parquet and Memory Mapping"
   ]
  },
  {
   "cell_type": "code",
   "execution_count": 9,
   "id": "2d3397d8",
   "metadata": {
    "ExecuteTime": {
     "end_time": "2023-01-16T14:33:08.636550Z",
     "start_time": "2023-01-16T14:33:08.491778Z"
    }
   },
   "outputs": [],
   "source": [
    "pq_array = pa.parquet.read_table(first_pq, memory_map=True)"
   ]
  },
  {
   "cell_type": "markdown",
   "id": "4910250b",
   "metadata": {},
   "source": [
    "### Finer-grained Reading and Writing"
   ]
  },
  {
   "cell_type": "code",
   "execution_count": 10,
   "id": "e5a8d292",
   "metadata": {
    "ExecuteTime": {
     "end_time": "2023-01-16T14:35:06.032757Z",
     "start_time": "2023-01-16T14:35:06.028433Z"
    }
   },
   "outputs": [
    {
     "data": {
      "text/plain": [
       "<pyarrow._parquet.FileMetaData object at 0x7fb0c56ea1d0>\n",
       "  created_by: parquet-cpp-arrow version 10.0.1\n",
       "  num_columns: 4\n",
       "  num_rows: 5227653\n",
       "  num_row_groups: 1\n",
       "  format_version: 2.6\n",
       "  serialized_size: 2799"
      ]
     },
     "execution_count": 10,
     "metadata": {},
     "output_type": "execute_result"
    }
   ],
   "source": [
    "parquet_file = pq.ParquetFile(first_pq)\n",
    "parquet_file.metadata"
   ]
  },
  {
   "cell_type": "code",
   "execution_count": 11,
   "id": "6a12a16f",
   "metadata": {
    "ExecuteTime": {
     "end_time": "2023-01-16T14:35:17.199886Z",
     "start_time": "2023-01-16T14:35:17.195904Z"
    }
   },
   "outputs": [
    {
     "data": {
      "text/plain": [
       "<pyarrow._parquet.ParquetSchema object at 0x7fb0b11773c0>\n",
       "required group field_id=-1 schema {\n",
       "  optional int64 field_id=-1 session;\n",
       "  optional int64 field_id=-1 aid;\n",
       "  optional int64 field_id=-1 ts;\n",
       "  optional binary field_id=-1 type (String);\n",
       "}"
      ]
     },
     "execution_count": 11,
     "metadata": {},
     "output_type": "execute_result"
    }
   ],
   "source": [
    "parquet_file.schema"
   ]
  },
  {
   "cell_type": "code",
   "execution_count": 12,
   "id": "2138ae39",
   "metadata": {
    "ExecuteTime": {
     "end_time": "2023-01-16T14:35:22.590250Z",
     "start_time": "2023-01-16T14:35:22.586290Z"
    }
   },
   "outputs": [
    {
     "data": {
      "text/plain": [
       "1"
      ]
     },
     "execution_count": 12,
     "metadata": {},
     "output_type": "execute_result"
    }
   ],
   "source": [
    "parquet_file.num_row_groups"
   ]
  },
  {
   "cell_type": "code",
   "execution_count": 13,
   "id": "0cc70b9f",
   "metadata": {
    "ExecuteTime": {
     "end_time": "2023-01-16T14:35:27.823178Z",
     "start_time": "2023-01-16T14:35:27.669065Z"
    }
   },
   "outputs": [
    {
     "data": {
      "text/plain": [
       "pyarrow.Table\n",
       "session: int64\n",
       "aid: int64\n",
       "ts: int64\n",
       "type: string\n",
       "----\n",
       "session: [[0,0,0,0,0,...,99999,99999,99999,99999,99999]]\n",
       "aid: [[1517085,1563459,1309446,16246,1781822,...,1544954,1032408,1544954,554230,1544954]]\n",
       "ts: [[1659304800025,1659304904511,1659367439426,1659367719997,1659367871344,...,1660373630318,1660373656430,1660373678083,1660373715477,1660373725829]]\n",
       "type: [[\"clicks\",\"clicks\",\"clicks\",\"clicks\",\"clicks\",...,\"clicks\",\"clicks\",\"clicks\",\"clicks\",\"clicks\"]]"
      ]
     },
     "execution_count": 13,
     "metadata": {},
     "output_type": "execute_result"
    }
   ],
   "source": [
    "parquet_file.read_row_group(0)"
   ]
  }
 ],
 "metadata": {
  "kernelspec": {
   "display_name": "Python 3",
   "language": "python",
   "name": "python3"
  },
  "language_info": {
   "codemirror_mode": {
    "name": "ipython",
    "version": 3
   },
   "file_extension": ".py",
   "mimetype": "text/x-python",
   "name": "python",
   "nbconvert_exporter": "python",
   "pygments_lexer": "ipython3",
   "version": "3.8.10"
  },
  "toc": {
   "base_numbering": 1,
   "nav_menu": {},
   "number_sections": false,
   "sideBar": true,
   "skip_h1_title": false,
   "title_cell": "Table of Contents",
   "title_sidebar": "Contents",
   "toc_cell": false,
   "toc_position": {},
   "toc_section_display": true,
   "toc_window_display": false
  }
 },
 "nbformat": 4,
 "nbformat_minor": 5
}
